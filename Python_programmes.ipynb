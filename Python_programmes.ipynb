{
  "nbformat": 4,
  "nbformat_minor": 0,
  "metadata": {
    "colab": {
      "name": "Python_programmes.ipynb",
      "provenance": [],
      "authorship_tag": "ABX9TyMyTaZl8iK7LmWOqd4/rTs3",
      "include_colab_link": true
    },
    "kernelspec": {
      "name": "python3",
      "display_name": "Python 3"
    },
    "language_info": {
      "name": "python"
    }
  },
  "cells": [
    {
      "cell_type": "markdown",
      "metadata": {
        "id": "view-in-github",
        "colab_type": "text"
      },
      "source": [
        "<a href=\"https://colab.research.google.com/github/HarshaBellamkonda518/BasicML/blob/main/Python_programmes.ipynb\" target=\"_parent\"><img src=\"https://colab.research.google.com/assets/colab-badge.svg\" alt=\"Open In Colab\"/></a>"
      ]
    },
    {
      "cell_type": "markdown",
      "metadata": {
        "id": "IsFPtS9s6ezo"
      },
      "source": [
        "Programme to add given two numbers\n",
        "\n",
        "\n"
      ]
    },
    {
      "cell_type": "code",
      "metadata": {
        "colab": {
          "base_uri": "https://localhost:8080/"
        },
        "id": "o5GQxu-i6mrW",
        "outputId": "1e8189c7-b345-4fa3-d760-8d84effeda6b"
      },
      "source": [
        "a=int(input())\n",
        "b=int(input())\n",
        "c=a+b\n",
        "print(c)"
      ],
      "execution_count": 1,
      "outputs": [
        {
          "output_type": "stream",
          "text": [
            "10\n",
            "20\n",
            "30\n"
          ],
          "name": "stdout"
        }
      ]
    },
    {
      "cell_type": "markdown",
      "metadata": {
        "id": "8v28AANA651b"
      },
      "source": [
        "Programme to determine whether the given number is EVEN or ODD\n",
        "\n"
      ]
    },
    {
      "cell_type": "code",
      "metadata": {
        "colab": {
          "base_uri": "https://localhost:8080/"
        },
        "id": "LvHFk4f07JX_",
        "outputId": "a127874e-7391-41d0-c027-15d757e6413f"
      },
      "source": [
        "n=int(input())\n",
        "if (n%2==0):\n",
        "    print(\"EVEN\")\n",
        "else:\n",
        "    print(\"ODD\")"
      ],
      "execution_count": 2,
      "outputs": [
        {
          "output_type": "stream",
          "text": [
            "4\n",
            "EVEN\n"
          ],
          "name": "stdout"
        }
      ]
    },
    {
      "cell_type": "markdown",
      "metadata": {
        "id": "DpGRpwzl74Tq"
      },
      "source": [
        "Programme to determine the greatest of three numbers\n",
        "\n"
      ]
    },
    {
      "cell_type": "code",
      "metadata": {
        "colab": {
          "base_uri": "https://localhost:8080/"
        },
        "id": "Winej6G48F7e",
        "outputId": "8e27fe89-94c4-48cf-d0f2-e14ee978fb50"
      },
      "source": [
        "a=int(input())\n",
        "b=int(input())\n",
        "c=int(input())\n",
        "if a>=b and a>=c:\n",
        "    print(a)\n",
        "elif b>=c:\n",
        "    print(b)\n",
        "else:\n",
        "    print(c)"
      ],
      "execution_count": 3,
      "outputs": [
        {
          "output_type": "stream",
          "text": [
            "14\n",
            "66\n",
            "27\n",
            "66\n"
          ],
          "name": "stdout"
        }
      ]
    }
  ]
}